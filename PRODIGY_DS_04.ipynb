{
  "nbformat": 4,
  "nbformat_minor": 0,
  "metadata": {
    "colab": {
      "provenance": [],
      "authorship_tag": "ABX9TyP/uZEFvyKUS7IPmc8Z0dxc",
      "include_colab_link": true
    },
    "kernelspec": {
      "name": "python3",
      "display_name": "Python 3"
    },
    "language_info": {
      "name": "python"
    }
  },
  "cells": [
    {
      "cell_type": "markdown",
      "metadata": {
        "id": "view-in-github",
        "colab_type": "text"
      },
      "source": [
        "<a href=\"https://colab.research.google.com/github/Mruthukrish/PRODIGY_DS_04/blob/main/PRODIGY_DS_04.ipynb\" target=\"_parent\"><img src=\"https://colab.research.google.com/assets/colab-badge.svg\" alt=\"Open In Colab\"/></a>"
      ]
    },
    {
      "cell_type": "code",
      "execution_count": null,
      "metadata": {
        "id": "neISy-TIMgaV"
      },
      "outputs": [],
      "source": [
        "import pandas as pd\n",
        "import re\n",
        "from textblob import TextBlob\n",
        "import matplotlib.pyplot as plt\n",
        "import seaborn as sns"
      ]
    },
    {
      "cell_type": "code",
      "source": [
        "train_data = pd.read_csv('twitter_training.csv')\n",
        "validation_data = pd.read_csv('twitter_validation.csv')"
      ],
      "metadata": {
        "id": "KjnZ_2tAMzOW"
      },
      "execution_count": null,
      "outputs": []
    },
    {
      "cell_type": "code",
      "source": [
        "data = pd.concat([train_data, validation_data])"
      ],
      "metadata": {
        "id": "s1PDcBlONDi-"
      },
      "execution_count": null,
      "outputs": []
    },
    {
      "cell_type": "code",
      "source": [
        "# Inspect the data\n",
        "print(data.head())"
      ],
      "metadata": {
        "colab": {
          "base_uri": "https://localhost:8080/"
        },
        "id": "or-3OkE-NFnf",
        "outputId": "49cee061-fb6b-44b9-c682-6c5c05cc3b81"
      },
      "execution_count": null,
      "outputs": [
        {
          "output_type": "stream",
          "name": "stdout",
          "text": [
            "     2401  Borderlands  Positive  \\\n",
            "0  2401.0  Borderlands  Positive   \n",
            "1  2401.0  Borderlands  Positive   \n",
            "2  2401.0  Borderlands  Positive   \n",
            "3  2401.0  Borderlands  Positive   \n",
            "4  2401.0  Borderlands  Positive   \n",
            "\n",
            "  im getting on borderlands and i will murder you all ,  3364 Facebook  \\\n",
            "0  I am coming to the borders and I will kill you...      NaN      NaN   \n",
            "1  im getting on borderlands and i will kill you ...      NaN      NaN   \n",
            "2  im coming on borderlands and i will murder you...      NaN      NaN   \n",
            "3  im getting on borderlands 2 and i will murder ...      NaN      NaN   \n",
            "4  im getting into borderlands and i can murder y...      NaN      NaN   \n",
            "\n",
            "  Irrelevant  \\\n",
            "0        NaN   \n",
            "1        NaN   \n",
            "2        NaN   \n",
            "3        NaN   \n",
            "4        NaN   \n",
            "\n",
            "  I mentioned on Facebook that I was struggling for motivation to go for a run the other day, which has been translated by Tom’s great auntie as ‘Hayley can’t get out of bed’ and told to his grandma, who now thinks I’m a lazy, terrible person 🤣  \n",
            "0                                                NaN                                                                                                                                                                                                  \n",
            "1                                                NaN                                                                                                                                                                                                  \n",
            "2                                                NaN                                                                                                                                                                                                  \n",
            "3                                                NaN                                                                                                                                                                                                  \n",
            "4                                                NaN                                                                                                                                                                                                  \n"
          ]
        }
      ]
    },
    {
      "cell_type": "code",
      "source": [
        "# Define a function to clean the text\n",
        "def clean_text(text):\n",
        "    text = re.sub(r'http\\S+', '', text)  # Remove URLs\n",
        "    text = re.sub(r'@\\w+', '', text)     # Remove mentions\n",
        "    text = re.sub(r'#\\w+', '', text)     # Remove hashtags\n",
        "    text = re.sub(r'\\s+', ' ', text)     # Remove extra whitespace\n",
        "    return text.strip()"
      ],
      "metadata": {
        "id": "ThHIZ1DTNHwO"
      },
      "execution_count": null,
      "outputs": []
    },
    {
      "cell_type": "code",
      "source": [
        "# Display the column names of the dataframe\n",
        "print(data.columns)\n"
      ],
      "metadata": {
        "colab": {
          "base_uri": "https://localhost:8080/"
        },
        "id": "AbS5LMt6NKVv",
        "outputId": "a722830f-9487-4007-aa0f-5d80f7d40a1a"
      },
      "execution_count": null,
      "outputs": [
        {
          "output_type": "stream",
          "name": "stdout",
          "text": [
            "Index(['2401', 'Borderlands', 'Positive',\n",
            "       'im getting on borderlands and i will murder you all ,', '3364',\n",
            "       'Facebook', 'Irrelevant',\n",
            "       'I mentioned on Facebook that I was struggling for motivation to go for a run the other day, which has been translated by Tom’s great auntie as ‘Hayley can’t get out of bed’ and told to his grandma, who now thinks I’m a lazy, terrible person 🤣'],\n",
            "      dtype='object')\n"
          ]
        }
      ]
    },
    {
      "cell_type": "code",
      "source": [
        "def get_sentiment(text):\n",
        "    blob = TextBlob(text)\n",
        "    sentiment = blob.sentiment.polarity\n",
        "    if sentiment > 0:\n",
        "        return 'positive'\n",
        "    elif sentiment < 0:\n",
        "        return 'negative'\n",
        "    else:\n",
        "        return 'neutral'"
      ],
      "metadata": {
        "id": "YocZaLqkN5oE"
      },
      "execution_count": null,
      "outputs": []
    },
    {
      "cell_type": "code",
      "source": [
        "# Rename columns for easier access\n",
        "data.columns = ['id1', 'topic', 'label', 'short_text', 'id2', 'platform', 'label2', 'long_text']\n"
      ],
      "metadata": {
        "id": "NjjBu1wqPQOu"
      },
      "execution_count": null,
      "outputs": []
    },
    {
      "cell_type": "code",
      "source": [
        "# Check the data types of each column\n",
        "print(data.dtypes)\n"
      ],
      "metadata": {
        "colab": {
          "base_uri": "https://localhost:8080/"
        },
        "id": "6oyHgYYpRtSX",
        "outputId": "14d2b687-7726-4a9c-8dd0-eae9b1af9346"
      },
      "execution_count": null,
      "outputs": [
        {
          "output_type": "stream",
          "name": "stdout",
          "text": [
            "id1           float64\n",
            "topic          object\n",
            "label          object\n",
            "short_text     object\n",
            "id2           float64\n",
            "platform       object\n",
            "label2         object\n",
            "long_text      object\n",
            "dtype: object\n"
          ]
        }
      ]
    },
    {
      "cell_type": "code",
      "source": [
        "# Ensure all values are strings to avoid TypeError\n",
        "data['sentiment'] = data['long_text'].astype(str).apply(get_sentiment)\n"
      ],
      "metadata": {
        "id": "B_hiIE7cRvrA"
      },
      "execution_count": null,
      "outputs": []
    },
    {
      "cell_type": "code",
      "source": [
        "plt.figure(figsize=(8, 5))\n",
        "sns.countplot(x='sentiment', data=data, palette='viridis')\n",
        "plt.title('Sentiment Distribution')\n",
        "plt.xlabel('Sentiment')\n",
        "plt.ylabel('Frequency')\n",
        "plt.show()"
      ],
      "metadata": {
        "colab": {
          "base_uri": "https://localhost:8080/",
          "height": 594
        },
        "id": "c3bLRhbZSCLq",
        "outputId": "3b609f6f-67b3-4be4-e0aa-52a1238b5e73"
      },
      "execution_count": null,
      "outputs": [
        {
          "output_type": "stream",
          "name": "stderr",
          "text": [
            "<ipython-input-27-58f15e77cd3e>:2: FutureWarning: \n",
            "\n",
            "Passing `palette` without assigning `hue` is deprecated and will be removed in v0.14.0. Assign the `x` variable to `hue` and set `legend=False` for the same effect.\n",
            "\n",
            "  sns.countplot(x='sentiment', data=data, palette='viridis')\n"
          ]
        },
        {
          "output_type": "display_data",
          "data": {
            "text/plain": [
              "<Figure size 800x500 with 1 Axes>"
            ],
            "image/png": "[encoded data removed]"
          },
          "metadata": {}
        }
      ]
    }
  ]
}